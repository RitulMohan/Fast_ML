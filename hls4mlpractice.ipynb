{
  "nbformat": 4,
  "nbformat_minor": 0,
  "metadata": {
    "colab": {
      "provenance": [],
      "include_colab_link": true
    },
    "kernelspec": {
      "name": "python3",
      "display_name": "Python 3"
    },
    "language_info": {
      "name": "python"
    }
  },
  "cells": [
    {
      "cell_type": "markdown",
      "metadata": {
        "id": "view-in-github",
        "colab_type": "text"
      },
      "source": [
        "<a href=\"https://colab.research.google.com/github/RitulMohan/Fast_ML/blob/main/hls4mlpractice.ipynb\" target=\"_parent\"><img src=\"https://colab.research.google.com/assets/colab-badge.svg\" alt=\"Open In Colab\"/></a>"
      ]
    },
    {
      "cell_type": "code",
      "source": [
        "!pip install hls4ml"
      ],
      "metadata": {
        "colab": {
          "base_uri": "https://localhost:8080/"
        },
        "id": "t2EKcXy3iD0A",
        "outputId": "fee6c3ba-da52-49b3-ee89-ba0a4e31e99d"
      },
      "execution_count": null,
      "outputs": [
        {
          "output_type": "stream",
          "name": "stdout",
          "text": [
            "Collecting hls4ml\n",
            "  Downloading hls4ml-0.7.1-py3-none-any.whl (544 kB)\n",
            "\u001b[2K     \u001b[90m━━━━━━━━━━━━━━━━━━━━━━━━━━━━━━━━━━━━━━━\u001b[0m \u001b[32m544.9/544.9 kB\u001b[0m \u001b[31m5.4 MB/s\u001b[0m eta \u001b[36m0:00:00\u001b[0m\n",
            "\u001b[?25hCollecting calmjs.parse (from hls4ml)\n",
            "  Downloading calmjs.parse-1.3.0-py3-none-any.whl (291 kB)\n",
            "\u001b[2K     \u001b[90m━━━━━━━━━━━━━━━━━━━━━━━━━━━━━━━━━━━━━━━\u001b[0m \u001b[32m292.0/292.0 kB\u001b[0m \u001b[31m7.4 MB/s\u001b[0m eta \u001b[36m0:00:00\u001b[0m\n",
            "\u001b[?25hRequirement already satisfied: h5py in /usr/local/lib/python3.10/dist-packages (from hls4ml) (3.9.0)\n",
            "Requirement already satisfied: numpy in /usr/local/lib/python3.10/dist-packages (from hls4ml) (1.23.5)\n",
            "Collecting onnx>=1.4.0 (from hls4ml)\n",
            "  Downloading onnx-1.14.0-cp310-cp310-manylinux_2_17_x86_64.manylinux2014_x86_64.whl (14.6 MB)\n",
            "\u001b[2K     \u001b[90m━━━━━━━━━━━━━━━━━━━━━━━━━━━━━━━━━━━━━━━━\u001b[0m \u001b[32m14.6/14.6 MB\u001b[0m \u001b[31m27.5 MB/s\u001b[0m eta \u001b[36m0:00:00\u001b[0m\n",
            "\u001b[?25hCollecting pydigitalwavetools==1.1 (from hls4ml)\n",
            "  Downloading pyDigitalWaveTools-1.1-py3-none-any.whl (13 kB)\n",
            "Requirement already satisfied: pyyaml in /usr/local/lib/python3.10/dist-packages (from hls4ml) (6.0.1)\n",
            "Collecting qkeras (from hls4ml)\n",
            "  Downloading QKeras-0.9.0-py3-none-any.whl (152 kB)\n",
            "\u001b[2K     \u001b[90m━━━━━━━━━━━━━━━━━━━━━━━━━━━━━━━━━━━━━━\u001b[0m \u001b[32m152.8/152.8 kB\u001b[0m \u001b[31m14.4 MB/s\u001b[0m eta \u001b[36m0:00:00\u001b[0m\n",
            "\u001b[?25hRequirement already satisfied: six in /usr/local/lib/python3.10/dist-packages (from hls4ml) (1.16.0)\n",
            "Requirement already satisfied: tabulate in /usr/local/lib/python3.10/dist-packages (from hls4ml) (0.9.0)\n",
            "Requirement already satisfied: protobuf>=3.20.2 in /usr/local/lib/python3.10/dist-packages (from onnx>=1.4.0->hls4ml) (3.20.3)\n",
            "Requirement already satisfied: typing-extensions>=3.6.2.1 in /usr/local/lib/python3.10/dist-packages (from onnx>=1.4.0->hls4ml) (4.7.1)\n",
            "Requirement already satisfied: setuptools in /usr/local/lib/python3.10/dist-packages (from calmjs.parse->hls4ml) (67.7.2)\n",
            "Collecting ply>=3.6 (from calmjs.parse->hls4ml)\n",
            "  Downloading ply-3.11-py2.py3-none-any.whl (49 kB)\n",
            "\u001b[2K     \u001b[90m━━━━━━━━━━━━━━━━━━━━━━━━━━━━━━━━━━━━━━━━\u001b[0m \u001b[32m49.6/49.6 kB\u001b[0m \u001b[31m4.5 MB/s\u001b[0m eta \u001b[36m0:00:00\u001b[0m\n",
            "\u001b[?25hRequirement already satisfied: scipy>=1.4.1 in /usr/local/lib/python3.10/dist-packages (from qkeras->hls4ml) (1.10.1)\n",
            "Collecting pyparser (from qkeras->hls4ml)\n",
            "  Downloading pyparser-1.0.tar.gz (4.0 kB)\n",
            "  Preparing metadata (setup.py) ... \u001b[?25l\u001b[?25hdone\n",
            "Collecting tensorflow-model-optimization>=0.2.1 (from qkeras->hls4ml)\n",
            "  Downloading tensorflow_model_optimization-0.7.5-py2.py3-none-any.whl (241 kB)\n",
            "\u001b[2K     \u001b[90m━━━━━━━━━━━━━━━━━━━━━━━━━━━━━━━━━━━━━━\u001b[0m \u001b[32m241.2/241.2 kB\u001b[0m \u001b[31m21.5 MB/s\u001b[0m eta \u001b[36m0:00:00\u001b[0m\n",
            "\u001b[?25hRequirement already satisfied: networkx>=2.1 in /usr/local/lib/python3.10/dist-packages (from qkeras->hls4ml) (3.1)\n",
            "Collecting keras-tuner>=1.0.1 (from qkeras->hls4ml)\n",
            "  Downloading keras_tuner-1.3.5-py3-none-any.whl (176 kB)\n",
            "\u001b[2K     \u001b[90m━━━━━━━━━━━━━━━━━━━━━━━━━━━━━━━━━━━━━━\u001b[0m \u001b[32m176.1/176.1 kB\u001b[0m \u001b[31m16.7 MB/s\u001b[0m eta \u001b[36m0:00:00\u001b[0m\n",
            "\u001b[?25hRequirement already satisfied: scikit-learn>=0.23.1 in /usr/local/lib/python3.10/dist-packages (from qkeras->hls4ml) (1.2.2)\n",
            "Requirement already satisfied: tqdm>=4.48.0 in /usr/local/lib/python3.10/dist-packages (from qkeras->hls4ml) (4.66.1)\n",
            "Requirement already satisfied: packaging in /usr/local/lib/python3.10/dist-packages (from keras-tuner>=1.0.1->qkeras->hls4ml) (23.1)\n",
            "Requirement already satisfied: requests in /usr/local/lib/python3.10/dist-packages (from keras-tuner>=1.0.1->qkeras->hls4ml) (2.31.0)\n",
            "Collecting kt-legacy (from keras-tuner>=1.0.1->qkeras->hls4ml)\n",
            "  Downloading kt_legacy-1.0.5-py3-none-any.whl (9.6 kB)\n",
            "Requirement already satisfied: joblib>=1.1.1 in /usr/local/lib/python3.10/dist-packages (from scikit-learn>=0.23.1->qkeras->hls4ml) (1.3.2)\n",
            "Requirement already satisfied: threadpoolctl>=2.0.0 in /usr/local/lib/python3.10/dist-packages (from scikit-learn>=0.23.1->qkeras->hls4ml) (3.2.0)\n",
            "Requirement already satisfied: absl-py~=1.2 in /usr/local/lib/python3.10/dist-packages (from tensorflow-model-optimization>=0.2.1->qkeras->hls4ml) (1.4.0)\n",
            "Requirement already satisfied: dm-tree~=0.1.1 in /usr/local/lib/python3.10/dist-packages (from tensorflow-model-optimization>=0.2.1->qkeras->hls4ml) (0.1.8)\n",
            "Collecting parse==1.6.5 (from pyparser->qkeras->hls4ml)\n",
            "  Downloading parse-1.6.5.tar.gz (24 kB)\n",
            "  Preparing metadata (setup.py) ... \u001b[?25l\u001b[?25hdone\n",
            "Requirement already satisfied: charset-normalizer<4,>=2 in /usr/local/lib/python3.10/dist-packages (from requests->keras-tuner>=1.0.1->qkeras->hls4ml) (3.2.0)\n",
            "Requirement already satisfied: idna<4,>=2.5 in /usr/local/lib/python3.10/dist-packages (from requests->keras-tuner>=1.0.1->qkeras->hls4ml) (3.4)\n",
            "Requirement already satisfied: urllib3<3,>=1.21.1 in /usr/local/lib/python3.10/dist-packages (from requests->keras-tuner>=1.0.1->qkeras->hls4ml) (2.0.4)\n",
            "Requirement already satisfied: certifi>=2017.4.17 in /usr/local/lib/python3.10/dist-packages (from requests->keras-tuner>=1.0.1->qkeras->hls4ml) (2023.7.22)\n",
            "Building wheels for collected packages: pyparser, parse\n",
            "  Building wheel for pyparser (setup.py) ... \u001b[?25l\u001b[?25hdone\n",
            "  Created wheel for pyparser: filename=pyparser-1.0-py3-none-any.whl size=4914 sha256=38d821d739a040787a7bfefad3fa7840cc04d40586d5b0176899ecb84ad98539\n",
            "  Stored in directory: /root/.cache/pip/wheels/25/87/78/ff95e8a747dc534fbd199fb3ea06d80935bc87e44567bbdb31\n",
            "  Building wheel for parse (setup.py) ... \u001b[?25l\u001b[?25hdone\n",
            "  Created wheel for parse: filename=parse-1.6.5-py3-none-any.whl size=18156 sha256=4a05563faaa0cc1bc89b5f3ee93a55f757aa2dd001c302fea855ad9459e5026b\n",
            "  Stored in directory: /root/.cache/pip/wheels/3f/10/c8/5023ea72290855ee33e7bc403e1048ae238b9c2fdb549a9f51\n",
            "Successfully built pyparser parse\n",
            "Installing collected packages: pydigitalwavetools, ply, parse, kt-legacy, tensorflow-model-optimization, pyparser, onnx, calmjs.parse, keras-tuner, qkeras, hls4ml\n",
            "Successfully installed calmjs.parse-1.3.0 hls4ml-0.7.1 keras-tuner-1.3.5 kt-legacy-1.0.5 onnx-1.14.0 parse-1.6.5 ply-3.11 pydigitalwavetools-1.1 pyparser-1.0 qkeras-0.9.0 tensorflow-model-optimization-0.7.5\n"
          ]
        }
      ]
    },
    {
      "cell_type": "code",
      "execution_count": null,
      "metadata": {
        "id": "Ub5DSlwT-NvT"
      },
      "outputs": [],
      "source": [
        "import tensorflow as tf\n",
        "import hls4ml\n",
        "import numpy as np\n",
        "import matplotlib.pyplot as plt\n",
        "from sklearn.datasets import fetch_openml\n",
        "from sklearn.model_selection import train_test_split\n",
        "from sklearn.preprocessing import LabelEncoder, StandardScaler\n",
        "import json\n",
        "%matplotlib inline"
      ]
    },
    {
      "cell_type": "code",
      "source": [
        "data = fetch_openml('hls4ml_lhc_jets_hlf')\n",
        "X, y = data['data'], data['target']\n",
        "le = LabelEncoder()\n",
        "y = le.fit_transform(y) #converts categorical to numerical classes\n",
        "y = tf.keras.utils.to_categorical(y, 5) #5 is number of classes. converts numerical classes to one hot encoded classes. each row corresponds to a sample and each column corresponds to a class label.\n",
        "X_train_val, X_test, y_train_val, y_test = train_test_split(X, y, test_size=0.2, random_state=42)\n",
        "scaler = StandardScaler()\n",
        "X_train_val = scaler.fit_transform(X_train_val)\n",
        "X_test = scaler.transform(X_test)"
      ],
      "metadata": {
        "colab": {
          "base_uri": "https://localhost:8080/"
        },
        "id": "j1pWwaALi9Ri",
        "outputId": "4dffc8ed-8b90-43a7-a9bc-5e121cd2b5f0"
      },
      "execution_count": null,
      "outputs": [
        {
          "output_type": "stream",
          "name": "stderr",
          "text": [
            "/usr/local/lib/python3.10/dist-packages/sklearn/datasets/_openml.py:968: FutureWarning: The default value of `parser` will change from `'liac-arff'` to `'auto'` in 1.4. You can set `parser='auto'` to silence this warning. Therefore, an `ImportError` will be raised from 1.4 if the dataset is dense and pandas is not installed. Note that the pandas parser may return different data types. See the Notes Section in fetch_openml's API doc for details.\n",
            "  warn(\n"
          ]
        }
      ]
    },
    {
      "cell_type": "code",
      "source": [
        "from tensorflow.keras.models import Model\n",
        "from tensorflow.keras.layers import Dense, Input\n",
        "from tensorflow.keras.regularizers import l1\n",
        "def three_layer_model(Inputs, nclasses, l1Reg=0, name='model_1'):\n",
        "    x = Dense(64, activation='relu', kernel_initializer='lecun_uniform',\n",
        "              name='fc1_relu', kernel_regularizer=l1(l1Reg))(Inputs)\n",
        "    x = Dense(32, activation='relu', kernel_initializer='lecun_uniform',\n",
        "              name='fc2_relu', kernel_regularizer=l1(l1Reg))(x)\n",
        "    x = Dense(32, activation='relu', kernel_initializer='lecun_uniform',\n",
        "              name='fc3_relu', kernel_regularizer=l1(l1Reg))(x)\n",
        "    predictions = Dense(nclasses, activation='softmax', kernel_initializer='lecun_uniform',\n",
        "                        name='output_softmax', kernel_regularizer=l1(l1Reg))(x)\n",
        "    model = Model(inputs=Inputs, outputs=predictions, name=name)\n",
        "    return model"
      ],
      "metadata": {
        "id": "LQ3o40nFlwzo"
      },
      "execution_count": null,
      "outputs": []
    },
    {
      "cell_type": "code",
      "source": [
        "train = False\n",
        "if train:\n",
        "    keras_model = three_layer_model(Input(shape=X_train_val.shape[1:], name='input_1'), y_train_val.shape[1], l1Reg=0.001)\n",
        "    keras_model.compile(optimizer='adam',loss='categorical_crossentropy', metrics=['acc'])\n",
        "    keras_model.fit(X_train_val, y_train_val, batch_size=1024,\n",
        "                    validation_split = 0.25, epochs = 30,\n",
        "                    callbacks = [tf.keras.callbacks.EarlyStopping(monitor='val_loss',\n",
        "                                                                  patience=5,\n",
        "                                                                  restore_best_weights=True)])\n",
        "    keras_model.save('keras_3layer.h5',save_format='h5', overwrite=True)\n",
        "    keras_model.summary()\n",
        "    y_keras = keras_model.predict(X_test)\n",
        "else:\n",
        "    keras_model = tf.keras.models.load_model('keras_3layer.h5')\n",
        "    keras_model.summary()\n",
        "    y_keras = keras_model.predict(X_test)"
      ],
      "metadata": {
        "colab": {
          "base_uri": "https://localhost:8080/"
        },
        "id": "Un0EtIUAnPxh",
        "outputId": "e5ed1575-b4f9-4652-c74c-a78ac84d7f8f"
      },
      "execution_count": null,
      "outputs": [
        {
          "output_type": "stream",
          "name": "stdout",
          "text": [
            "Epoch 1/30\n",
            "487/487 [==============================] - 7s 8ms/step - loss: 1.3358 - acc: 0.6795 - val_loss: 1.0901 - val_acc: 0.7240\n",
            "Epoch 2/30\n",
            "487/487 [==============================] - 3s 6ms/step - loss: 1.0167 - acc: 0.7293 - val_loss: 0.9702 - val_acc: 0.7331\n",
            "Epoch 3/30\n",
            "487/487 [==============================] - 5s 10ms/step - loss: 0.9377 - acc: 0.7360 - val_loss: 0.9187 - val_acc: 0.7374\n",
            "Epoch 4/30\n",
            "487/487 [==============================] - 5s 10ms/step - loss: 0.8999 - acc: 0.7397 - val_loss: 0.8913 - val_acc: 0.7414\n",
            "Epoch 5/30\n",
            "487/487 [==============================] - 6s 12ms/step - loss: 0.8761 - acc: 0.7421 - val_loss: 0.8755 - val_acc: 0.7410\n",
            "Epoch 6/30\n",
            "487/487 [==============================] - 7s 14ms/step - loss: 0.8614 - acc: 0.7437 - val_loss: 0.8607 - val_acc: 0.7423\n",
            "Epoch 7/30\n",
            "487/487 [==============================] - 3s 6ms/step - loss: 0.8497 - acc: 0.7449 - val_loss: 0.8494 - val_acc: 0.7436\n",
            "Epoch 8/30\n",
            "487/487 [==============================] - 3s 6ms/step - loss: 0.8399 - acc: 0.7460 - val_loss: 0.8392 - val_acc: 0.7454\n",
            "Epoch 9/30\n",
            "487/487 [==============================] - 4s 8ms/step - loss: 0.8319 - acc: 0.7472 - val_loss: 0.8343 - val_acc: 0.7464\n",
            "Epoch 10/30\n",
            "487/487 [==============================] - 3s 6ms/step - loss: 0.8245 - acc: 0.7475 - val_loss: 0.8247 - val_acc: 0.7466\n",
            "Epoch 11/30\n",
            "487/487 [==============================] - 3s 6ms/step - loss: 0.8179 - acc: 0.7482 - val_loss: 0.8196 - val_acc: 0.7475\n",
            "Epoch 12/30\n",
            "487/487 [==============================] - 3s 6ms/step - loss: 0.8124 - acc: 0.7488 - val_loss: 0.8137 - val_acc: 0.7478\n",
            "Epoch 13/30\n",
            "487/487 [==============================] - 4s 8ms/step - loss: 0.8082 - acc: 0.7495 - val_loss: 0.8119 - val_acc: 0.7484\n",
            "Epoch 14/30\n",
            "487/487 [==============================] - 4s 7ms/step - loss: 0.8051 - acc: 0.7498 - val_loss: 0.8086 - val_acc: 0.7485\n",
            "Epoch 15/30\n",
            "487/487 [==============================] - 3s 6ms/step - loss: 0.8022 - acc: 0.7502 - val_loss: 0.8073 - val_acc: 0.7479\n",
            "Epoch 16/30\n",
            "487/487 [==============================] - 3s 6ms/step - loss: 0.8001 - acc: 0.7507 - val_loss: 0.8032 - val_acc: 0.7492\n",
            "Epoch 17/30\n",
            "487/487 [==============================] - 3s 7ms/step - loss: 0.7978 - acc: 0.7509 - val_loss: 0.8020 - val_acc: 0.7494\n",
            "Epoch 18/30\n",
            "487/487 [==============================] - 4s 8ms/step - loss: 0.7961 - acc: 0.7514 - val_loss: 0.7997 - val_acc: 0.7498\n",
            "Epoch 19/30\n",
            "487/487 [==============================] - 3s 6ms/step - loss: 0.7945 - acc: 0.7516 - val_loss: 0.7983 - val_acc: 0.7502\n",
            "Epoch 20/30\n",
            "487/487 [==============================] - 3s 6ms/step - loss: 0.7934 - acc: 0.7517 - val_loss: 0.7987 - val_acc: 0.7510\n",
            "Epoch 21/30\n",
            "487/487 [==============================] - 3s 6ms/step - loss: 0.7917 - acc: 0.7519 - val_loss: 0.7963 - val_acc: 0.7507\n",
            "Epoch 22/30\n",
            "487/487 [==============================] - 4s 9ms/step - loss: 0.7907 - acc: 0.7520 - val_loss: 0.7942 - val_acc: 0.7513\n",
            "Epoch 23/30\n",
            "487/487 [==============================] - 3s 6ms/step - loss: 0.7898 - acc: 0.7524 - val_loss: 0.7946 - val_acc: 0.7501\n",
            "Epoch 24/30\n",
            "487/487 [==============================] - 3s 6ms/step - loss: 0.7888 - acc: 0.7525 - val_loss: 0.7929 - val_acc: 0.7513\n",
            "Epoch 25/30\n",
            "487/487 [==============================] - 3s 6ms/step - loss: 0.7880 - acc: 0.7528 - val_loss: 0.7918 - val_acc: 0.7515\n",
            "Epoch 26/30\n",
            "487/487 [==============================] - 4s 9ms/step - loss: 0.7873 - acc: 0.7529 - val_loss: 0.7914 - val_acc: 0.7523\n",
            "Epoch 27/30\n",
            "487/487 [==============================] - 3s 7ms/step - loss: 0.7865 - acc: 0.7531 - val_loss: 0.7901 - val_acc: 0.7527\n",
            "Epoch 28/30\n",
            "487/487 [==============================] - 3s 6ms/step - loss: 0.7858 - acc: 0.7534 - val_loss: 0.7905 - val_acc: 0.7521\n",
            "Epoch 29/30\n",
            "487/487 [==============================] - 3s 6ms/step - loss: 0.7851 - acc: 0.7537 - val_loss: 0.7912 - val_acc: 0.7518\n",
            "Epoch 30/30\n",
            "487/487 [==============================] - 4s 8ms/step - loss: 0.7848 - acc: 0.7534 - val_loss: 0.7902 - val_acc: 0.7523\n",
            "Model: \"model_1\"\n",
            "_________________________________________________________________\n",
            " Layer (type)                Output Shape              Param #   \n",
            "=================================================================\n",
            " input_1 (InputLayer)        [(None, 16)]              0         \n",
            "                                                                 \n",
            " fc1_relu (Dense)            (None, 64)                1088      \n",
            "                                                                 \n",
            " fc2_relu (Dense)            (None, 32)                2080      \n",
            "                                                                 \n",
            " fc3_relu (Dense)            (None, 32)                1056      \n",
            "                                                                 \n",
            " output_softmax (Dense)      (None, 5)                 165       \n",
            "                                                                 \n",
            "=================================================================\n",
            "Total params: 4,389\n",
            "Trainable params: 4,389\n",
            "Non-trainable params: 0\n",
            "_________________________________________________________________\n",
            "5188/5188 [==============================] - 10s 2ms/step\n"
          ]
        }
      ]
    },
    {
      "cell_type": "code",
      "source": [
        "from google.colab import drive\n",
        "drive.mount('/content/drive')"
      ],
      "metadata": {
        "colab": {
          "base_uri": "https://localhost:8080/"
        },
        "id": "C0YyOEqXo2pY",
        "outputId": "b20f390b-0490-48c1-ca60-d2c0d734b906"
      },
      "execution_count": null,
      "outputs": [
        {
          "output_type": "stream",
          "name": "stdout",
          "text": [
            "Mounted at /content/drive\n"
          ]
        }
      ]
    },
    {
      "cell_type": "code",
      "source": [
        "import os\n",
        "output_dir = '/content/drive/MyDrive/hls4ml_project'\n",
        "# Create the directory if it doesn't exist\n",
        "if not os.path.exists(output_dir):\n",
        "    os.makedirs(output_dir)"
      ],
      "metadata": {
        "id": "Q74yrqX7qCgV"
      },
      "execution_count": null,
      "outputs": []
    },
    {
      "cell_type": "code",
      "source": [
        "hls_cfg = hls4ml.utils.config_from_keras_model(keras_model, granularity='name')\n",
        "hls_model = hls4ml.converters.convert_from_keras_model(keras_model, output_dir=output_dir, hls_config=hls_cfg)"
      ],
      "metadata": {
        "colab": {
          "base_uri": "https://localhost:8080/"
        },
        "id": "o0d3G6LbqK2K",
        "outputId": "9a0d0014-dbf9-4101-af8f-b4a4ec76c7fb"
      },
      "execution_count": null,
      "outputs": [
        {
          "output_type": "stream",
          "name": "stdout",
          "text": [
            "Interpreting Model\n",
            "Topology:\n",
            "Layer name: input_1, layer type: InputLayer, input shapes: [[None, 16]], output shape: [None, 16]\n",
            "Layer name: fc1_relu, layer type: Dense, input shapes: [[None, 16]], output shape: [None, 64]\n",
            "Layer name: fc2_relu, layer type: Dense, input shapes: [[None, 64]], output shape: [None, 32]\n",
            "Layer name: fc3_relu, layer type: Dense, input shapes: [[None, 32]], output shape: [None, 32]\n",
            "Layer name: output_softmax, layer type: Dense, input shapes: [[None, 32]], output shape: [None, 5]\n",
            "Interpreting Model\n",
            "Topology:\n",
            "Layer name: input_1, layer type: InputLayer, input shapes: [[None, 16]], output shape: [None, 16]\n",
            "Layer name: fc1_relu, layer type: Dense, input shapes: [[None, 16]], output shape: [None, 64]\n",
            "Layer name: fc2_relu, layer type: Dense, input shapes: [[None, 64]], output shape: [None, 32]\n",
            "Layer name: fc3_relu, layer type: Dense, input shapes: [[None, 32]], output shape: [None, 32]\n",
            "Layer name: output_softmax, layer type: Dense, input shapes: [[None, 32]], output shape: [None, 5]\n",
            "Creating HLS model\n"
          ]
        }
      ]
    },
    {
      "cell_type": "code",
      "source": [
        "hls_model.compile()"
      ],
      "metadata": {
        "colab": {
          "base_uri": "https://localhost:8080/"
        },
        "id": "w7AUNDNRqWSi",
        "outputId": "954b0b71-7af6-483e-cd3a-336f446efea1"
      },
      "execution_count": null,
      "outputs": [
        {
          "output_type": "stream",
          "name": "stdout",
          "text": [
            "Writing HLS project\n",
            "Done\n"
          ]
        }
      ]
    },
    {
      "cell_type": "code",
      "source": [
        "# Convert X_test to a contiguous memory layout\n",
        "X_test_contiguous = np.ascontiguousarray(X_test)\n",
        "\n",
        "# Use the converted array for prediction\n",
        "y_hls4ml = hls_model.predict(X_test_contiguous)\n",
        "# By using numpy.ascontiguousarray, you ensure that the memory layout of X_test is compatible with HLS4ML's requirements"
      ],
      "metadata": {
        "id": "Llyc-GSAqxvx"
      },
      "execution_count": null,
      "outputs": []
    },
    {
      "cell_type": "code",
      "source": [
        "plt.figure(figsize=(9, 7))\n",
        "h, b = np.histogram((y_hls4ml - y_keras).flatten(), bins=np.linspace(-0.1,0.1,100))\n",
        "plt.bar(b[:-1], h, width=b[1]-b[0], color='b', alpha=0.5, label='diff')\n",
        "plt.legend()\n",
        "plt.semilogy()\n",
        "plt.xlabel('y_hls4ml - y_keras')\n",
        "plt.savefig('residual.png')"
      ],
      "metadata": {
        "colab": {
          "base_uri": "https://localhost:8080/",
          "height": 619
        },
        "id": "p0K2LU0IrG08",
        "outputId": "8cd030b9-2e10-43ed-ba93-356bf269956c"
      },
      "execution_count": null,
      "outputs": [
        {
          "output_type": "display_data",
          "data": {
            "text/plain": [
              "<Figure size 900x700 with 1 Axes>"
            ],
            "image/png": "[encoded data removed]"
          },
          "metadata": {}
        }
      ]
    },
    {
      "cell_type": "code",
      "source": [
        "!pip install plotting"
      ],
      "metadata": {
        "colab": {
          "base_uri": "https://localhost:8080/"
        },
        "id": "7nhSzSxtsIK6",
        "outputId": "a6a30117-acd8-40b6-cddb-7dd07c72f0ea"
      },
      "execution_count": null,
      "outputs": [
        {
          "output_type": "stream",
          "name": "stdout",
          "text": [
            "Collecting plotting\n",
            "  Downloading plotting-0.0.7-py3-none-any.whl (13 kB)\n",
            "Requirement already satisfied: matplotlib in /usr/local/lib/python3.10/dist-packages (from plotting) (3.7.1)\n",
            "Requirement already satisfied: seaborn in /usr/local/lib/python3.10/dist-packages (from plotting) (0.12.2)\n",
            "Requirement already satisfied: pandas in /usr/local/lib/python3.10/dist-packages (from plotting) (1.5.3)\n",
            "Requirement already satisfied: contourpy>=1.0.1 in /usr/local/lib/python3.10/dist-packages (from matplotlib->plotting) (1.1.0)\n",
            "Requirement already satisfied: cycler>=0.10 in /usr/local/lib/python3.10/dist-packages (from matplotlib->plotting) (0.11.0)\n",
            "Requirement already satisfied: fonttools>=4.22.0 in /usr/local/lib/python3.10/dist-packages (from matplotlib->plotting) (4.42.0)\n",
            "Requirement already satisfied: kiwisolver>=1.0.1 in /usr/local/lib/python3.10/dist-packages (from matplotlib->plotting) (1.4.4)\n",
            "Requirement already satisfied: numpy>=1.20 in /usr/local/lib/python3.10/dist-packages (from matplotlib->plotting) (1.23.5)\n",
            "Requirement already satisfied: packaging>=20.0 in /usr/local/lib/python3.10/dist-packages (from matplotlib->plotting) (23.1)\n",
            "Requirement already satisfied: pillow>=6.2.0 in /usr/local/lib/python3.10/dist-packages (from matplotlib->plotting) (9.4.0)\n",
            "Requirement already satisfied: pyparsing>=2.3.1 in /usr/local/lib/python3.10/dist-packages (from matplotlib->plotting) (3.1.1)\n",
            "Requirement already satisfied: python-dateutil>=2.7 in /usr/local/lib/python3.10/dist-packages (from matplotlib->plotting) (2.8.2)\n",
            "Requirement already satisfied: pytz>=2020.1 in /usr/local/lib/python3.10/dist-packages (from pandas->plotting) (2023.3)\n",
            "Requirement already satisfied: six>=1.5 in /usr/local/lib/python3.10/dist-packages (from python-dateutil>=2.7->matplotlib->plotting) (1.16.0)\n",
            "Installing collected packages: plotting\n",
            "Successfully installed plotting-0.0.7\n"
          ]
        }
      ]
    },
    {
      "cell_type": "code",
      "source": [
        "import plotting\n",
        "import matplotlib.pyplot as plt\n",
        "from sklearn.metrics import accuracy_score\n",
        "from tensorflow.keras.models import load_model\n",
        "\n",
        "print(\"Accuracy keras:  {}\".format(accuracy_score(np.argmax(y_test, axis=1), np.argmax(y_keras, axis=1))))\n",
        "print(\"Accuracy hls4ml: {}\".format(accuracy_score(np.argmax(y_test, axis=1), np.argmax(y_hls4ml, axis=1))))\n",
        "\n",
        "#ax, = plt.figure(figsize=(9, 9))\n",
        "fig, ax = plt.subplots(figsize=(9, 9))\n",
        "_ = plotting.makeRoc(y_test, y_keras, le.classes_)\n",
        "plt.gca().set_prop_cycle(None) # reset the colors\n",
        "_ = plotting.makeRoc(y_test, y_hls4ml, le.classes_, linestyle='--')\n",
        "\n",
        "from matplotlib.lines import Line2D\n",
        "lines = [Line2D([0], [0], ls='-'),\n",
        "         Line2D([0], [0], ls='--')]\n",
        "from matplotlib.legend import Legend\n",
        "leg = Legend(ax, lines, labels=['keras', 'hls4ml'],\n",
        "            loc='lower right', frameon=False)\n",
        "ax.add_artist(leg)"
      ],
      "metadata": {
        "colab": {
          "base_uri": "https://localhost:8080/",
          "height": 1000
        },
        "id": "89X2kwAMsFMS",
        "outputId": "2721f185-eb66-4610-89e2-29bf51924076"
      },
      "execution_count": null,
      "outputs": [
        {
          "output_type": "stream",
          "name": "stdout",
          "text": [
            "Accuracy keras:  0.7510903614457831\n",
            "Accuracy hls4ml: 0.7513253012048193\n"
          ]
        },
        {
          "output_type": "error",
          "ename": "AttributeError",
          "evalue": "ignored",
          "traceback": [
            "\u001b[0;31m---------------------------------------------------------------------------\u001b[0m",
            "\u001b[0;31mAttributeError\u001b[0m                            Traceback (most recent call last)",
            "\u001b[0;32m<ipython-input-19-5adce8c47b0a>\u001b[0m in \u001b[0;36m<cell line: 11>\u001b[0;34m()\u001b[0m\n\u001b[1;32m      9\u001b[0m \u001b[0;31m#ax, = plt.figure(figsize=(9, 9))\u001b[0m\u001b[0;34m\u001b[0m\u001b[0;34m\u001b[0m\u001b[0m\n\u001b[1;32m     10\u001b[0m \u001b[0mfig\u001b[0m\u001b[0;34m,\u001b[0m \u001b[0max\u001b[0m \u001b[0;34m=\u001b[0m \u001b[0mplt\u001b[0m\u001b[0;34m.\u001b[0m\u001b[0msubplots\u001b[0m\u001b[0;34m(\u001b[0m\u001b[0mfigsize\u001b[0m\u001b[0;34m=\u001b[0m\u001b[0;34m(\u001b[0m\u001b[0;36m9\u001b[0m\u001b[0;34m,\u001b[0m \u001b[0;36m9\u001b[0m\u001b[0;34m)\u001b[0m\u001b[0;34m)\u001b[0m\u001b[0;34m\u001b[0m\u001b[0;34m\u001b[0m\u001b[0m\n\u001b[0;32m---> 11\u001b[0;31m \u001b[0m_\u001b[0m \u001b[0;34m=\u001b[0m \u001b[0mplotting\u001b[0m\u001b[0;34m.\u001b[0m\u001b[0mmakeRoc\u001b[0m\u001b[0;34m(\u001b[0m\u001b[0my_test\u001b[0m\u001b[0;34m,\u001b[0m \u001b[0my_keras\u001b[0m\u001b[0;34m,\u001b[0m \u001b[0mle\u001b[0m\u001b[0;34m.\u001b[0m\u001b[0mclasses_\u001b[0m\u001b[0;34m)\u001b[0m\u001b[0;34m\u001b[0m\u001b[0;34m\u001b[0m\u001b[0m\n\u001b[0m\u001b[1;32m     12\u001b[0m \u001b[0mplt\u001b[0m\u001b[0;34m.\u001b[0m\u001b[0mgca\u001b[0m\u001b[0;34m(\u001b[0m\u001b[0;34m)\u001b[0m\u001b[0;34m.\u001b[0m\u001b[0mset_prop_cycle\u001b[0m\u001b[0;34m(\u001b[0m\u001b[0;32mNone\u001b[0m\u001b[0;34m)\u001b[0m \u001b[0;31m# reset the colors\u001b[0m\u001b[0;34m\u001b[0m\u001b[0;34m\u001b[0m\u001b[0m\n\u001b[1;32m     13\u001b[0m \u001b[0m_\u001b[0m \u001b[0;34m=\u001b[0m \u001b[0mplotting\u001b[0m\u001b[0;34m.\u001b[0m\u001b[0mmakeRoc\u001b[0m\u001b[0;34m(\u001b[0m\u001b[0my_test\u001b[0m\u001b[0;34m,\u001b[0m \u001b[0my_hls4ml\u001b[0m\u001b[0;34m,\u001b[0m \u001b[0mle\u001b[0m\u001b[0;34m.\u001b[0m\u001b[0mclasses_\u001b[0m\u001b[0;34m,\u001b[0m \u001b[0mlinestyle\u001b[0m\u001b[0;34m=\u001b[0m\u001b[0;34m'--'\u001b[0m\u001b[0;34m)\u001b[0m\u001b[0;34m\u001b[0m\u001b[0;34m\u001b[0m\u001b[0m\n",
            "\u001b[0;31mAttributeError\u001b[0m: module 'plotting' has no attribute 'makeRoc'"
          ]
        },
        {
          "output_type": "display_data",
          "data": {
            "text/plain": [
              "<Figure size 900x900 with 1 Axes>"
            ],
            "image/png": "[encoded data removed]"
          },
          "metadata": {}
        }
      ]
    }
  ]
}